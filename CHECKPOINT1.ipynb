{
  "nbformat": 4,
  "nbformat_minor": 0,
  "metadata": {
    "colab": {
      "name": "CHECKPOINT1.ipynb",
      "provenance": [],
      "authorship_tag": "ABX9TyNDA7H6MGqOETqdZ7W/zITB",
      "include_colab_link": true
    },
    "kernelspec": {
      "name": "python3",
      "display_name": "Python 3"
    },
    "language_info": {
      "name": "python"
    }
  },
  "cells": [
    {
      "cell_type": "markdown",
      "metadata": {
        "id": "view-in-github",
        "colab_type": "text"
      },
      "source": [
        "<a href=\"https://colab.research.google.com/github/moudanmoussa72/Gomycode_PY/blob/main/CHECKPOINT1.ipynb\" target=\"_parent\"><img src=\"https://colab.research.google.com/assets/colab-badge.svg\" alt=\"Open In Colab\"/></a>"
      ]
    },
    {
      "cell_type": "code",
      "metadata": {
        "id": "uQZ433l_AGMw"
      },
      "source": [
        ""
      ],
      "execution_count": null,
      "outputs": []
    },
    {
      "cell_type": "markdown",
      "metadata": {
        "id": "GhxvIorRAQb8"
      },
      "source": [
        ""
      ]
    },
    {
      "cell_type": "markdown",
      "metadata": {
        "id": "VknodbXwD5Tr"
      },
      "source": [
        "Ex1:\n"
      ]
    },
    {
      "cell_type": "code",
      "metadata": {
        "colab": {
          "base_uri": "https://localhost:8080/"
        },
        "id": "OrFXAZvBAFvp",
        "outputId": "a06de5d4-54bc-4465-8375-77d13a12b3f4"
      },
      "source": [
        "print('moudan')"
      ],
      "execution_count": 2,
      "outputs": [
        {
          "output_type": "stream",
          "text": [
            "moudan\n"
          ],
          "name": "stdout"
        }
      ]
    },
    {
      "cell_type": "code",
      "metadata": {
        "colab": {
          "base_uri": "https://localhost:8080/"
        },
        "id": "TgQqAbRHAAFm",
        "outputId": "faa31df0-d4b4-4347-badc-342535a6905d"
      },
      "source": [
        "print('hello moudan')"
      ],
      "execution_count": 3,
      "outputs": [
        {
          "output_type": "stream",
          "text": [
            "hello moudan\n"
          ],
          "name": "stdout"
        }
      ]
    },
    {
      "cell_type": "code",
      "metadata": {
        "colab": {
          "base_uri": "https://localhost:8080/"
        },
        "id": "SqTymgxNETIN",
        "outputId": "9d5cf144-4fbf-45ef-b982-ffd49950d9c6"
      },
      "source": [
        "print('Bienvenue dans le monde python ! Commençons à coder')"
      ],
      "execution_count": 5,
      "outputs": [
        {
          "output_type": "stream",
          "text": [
            "Bienvenue dans le monde python ! Commençons à coder\n"
          ],
          "name": "stdout"
        }
      ]
    }
  ]
}